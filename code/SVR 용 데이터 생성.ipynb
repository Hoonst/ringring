{
 "cells": [
  {
   "cell_type": "code",
   "execution_count": 187,
   "metadata": {},
   "outputs": [],
   "source": [
    "import pandas as pd\n",
    "import os\n",
    "from functools import reduce\n",
    "from sklearn.model_selection import train_test_split"
   ]
  },
  {
   "cell_type": "markdown",
   "metadata": {},
   "source": [
    "## 데이터 합치기"
   ]
  },
  {
   "cell_type": "code",
   "execution_count": 188,
   "metadata": {},
   "outputs": [],
   "source": [
    "## 온도 데이터 위치\n",
    "root_path = '../dataset'\n",
    "save_path = 'rain_total.csv'\n",
    "assert os.path.isdir(root_path), \"온도 데이터가 있는 폴더 설정 하세요.\""
   ]
  },
  {
   "cell_type": "code",
   "execution_count": 189,
   "metadata": {},
   "outputs": [
    {
     "name": "stdout",
     "output_type": "stream",
     "text": [
      "['in_total.csv', 'dust_total.csv', 'temp_total.csv', 'rain_total.csv', 'holiday_total.csv', 'user_total.csv']\n"
     ]
    }
   ],
   "source": [
    "## 데이터 확인\n",
    "filelist = [item for item in os.listdir(root_path) if '.csv' in item or '.xlsx' in item]\n",
    "print(filelist)"
   ]
  },
  {
   "cell_type": "code",
   "execution_count": 190,
   "metadata": {},
   "outputs": [],
   "source": [
    "demand_df = pd.read_csv(os.path.join(root_path,'in_total.csv'), thousands=',')\n",
    "rain_df = pd.read_csv(os.path.join(root_path,'rain_total.csv'))\n",
    "dust_df = pd.read_csv(os.path.join(root_path,'dust_total.csv'))\n",
    "temp_df = pd.read_csv(os.path.join(root_path,'temp_total.csv'))\n",
    "holiday_df = pd.read_csv(os.path.join(root_path,'holiday_total.csv'))\n",
    "user_df = pd.read_csv(os.path.join(root_path,'user_total.csv'))"
   ]
  },
  {
   "cell_type": "code",
   "execution_count": 192,
   "metadata": {},
   "outputs": [
    {
     "name": "stdout",
     "output_type": "stream",
     "text": [
      "date     0\n",
      "count    0\n",
      "dtype: int64\n",
      "date       0\n",
      "rain    1370\n",
      "dtype: int64\n",
      "date    0\n",
      "dust    0\n",
      "dtype: int64\n",
      "date     0\n",
      "temp    34\n",
      "dtype: int64\n",
      "date       0\n",
      "holiday    0\n",
      "dtype: int64\n",
      "date    0\n",
      "user    0\n",
      "dtype: int64\n"
     ]
    }
   ],
   "source": [
    "## 전처리\n",
    "print(demand_df.isna().sum())\n",
    "print(rain_df.isna().sum())\n",
    "print(dust_df.isna().sum())\n",
    "print(temp_df.isna().sum())\n",
    "print(holiday_df.isna().sum())\n",
    "print(user_df.isna().sum())"
   ]
  },
  {
   "cell_type": "code",
   "execution_count": 193,
   "metadata": {},
   "outputs": [],
   "source": [
    "## rain 전처리 모두 0으로 처리\n",
    "rain_df = rain_df.fillna(0)"
   ]
  },
  {
   "cell_type": "code",
   "execution_count": 194,
   "metadata": {},
   "outputs": [],
   "source": [
    "## 온도는 없는것 없애기\n",
    "temp_df=temp_df.dropna()"
   ]
  },
  {
   "cell_type": "code",
   "execution_count": 195,
   "metadata": {},
   "outputs": [],
   "source": [
    "## 데이터 합치기\n",
    "data_frames = [demand_df, rain_df, dust_df, temp_df, holiday_df, user_df]\n",
    "#data_frames = [demand_df, rain_df, dust_df, temp_df, holiday_df]\n",
    "df_merged = reduce(lambda  left,right: pd.merge(left,right,on=['date']), data_frames)"
   ]
  },
  {
   "cell_type": "code",
   "execution_count": 196,
   "metadata": {},
   "outputs": [],
   "source": [
    "##중복 제거\n",
    "df_merged = df_merged.drop_duplicates()\n",
    "## 정렬하기\n",
    "df_merged = df_merged.sort_values('date')"
   ]
  },
  {
   "cell_type": "code",
   "execution_count": 197,
   "metadata": {},
   "outputs": [],
   "source": [
    "## 더미변수 생성하기\n",
    "df_merged['date'] = pd.to_datetime(df_merged['date'], format='%Y-%m-%d')\n",
    "df_merged['week']=df_merged.date.dt.weekday"
   ]
  },
  {
   "cell_type": "code",
   "execution_count": 198,
   "metadata": {},
   "outputs": [],
   "source": [
    "df_merged['shift1'] = df_merged['count'].shift(1)\n",
    "df_merged = df_merged.dropna()"
   ]
  },
  {
   "cell_type": "code",
   "execution_count": 199,
   "metadata": {},
   "outputs": [],
   "source": [
    "## 데이터 저장하기\n",
    "df_merged.to_csv('svr_dataset.csv', index=None)"
   ]
  },
  {
   "cell_type": "code",
   "execution_count": 200,
   "metadata": {},
   "outputs": [
    {
     "name": "stdout",
     "output_type": "stream",
     "text": [
      "1207\n"
     ]
    }
   ],
   "source": [
    "## 전체 데이터\n",
    "print(len(df_merged))"
   ]
  },
  {
   "cell_type": "code",
   "execution_count": 201,
   "metadata": {},
   "outputs": [
    {
     "data": {
      "text/html": [
       "<div>\n",
       "<style scoped>\n",
       "    .dataframe tbody tr th:only-of-type {\n",
       "        vertical-align: middle;\n",
       "    }\n",
       "\n",
       "    .dataframe tbody tr th {\n",
       "        vertical-align: top;\n",
       "    }\n",
       "\n",
       "    .dataframe thead th {\n",
       "        text-align: right;\n",
       "    }\n",
       "</style>\n",
       "<table border=\"1\" class=\"dataframe\">\n",
       "  <thead>\n",
       "    <tr style=\"text-align: right;\">\n",
       "      <th></th>\n",
       "      <th>date</th>\n",
       "      <th>count</th>\n",
       "      <th>rain</th>\n",
       "      <th>dust</th>\n",
       "      <th>temp</th>\n",
       "      <th>holiday</th>\n",
       "      <th>user</th>\n",
       "      <th>week</th>\n",
       "      <th>shift1</th>\n",
       "    </tr>\n",
       "  </thead>\n",
       "  <tbody>\n",
       "    <tr>\n",
       "      <th>1</th>\n",
       "      <td>2017-01-02</td>\n",
       "      <td>3796</td>\n",
       "      <td>0.3</td>\n",
       "      <td>113.974359</td>\n",
       "      <td>5.0</td>\n",
       "      <td>0.0</td>\n",
       "      <td>182</td>\n",
       "      <td>0</td>\n",
       "      <td>2307.0</td>\n",
       "    </tr>\n",
       "    <tr>\n",
       "      <th>2</th>\n",
       "      <td>2017-01-03</td>\n",
       "      <td>4049</td>\n",
       "      <td>0.0</td>\n",
       "      <td>80.948718</td>\n",
       "      <td>2.0</td>\n",
       "      <td>0.0</td>\n",
       "      <td>198</td>\n",
       "      <td>1</td>\n",
       "      <td>3796.0</td>\n",
       "    </tr>\n",
       "    <tr>\n",
       "      <th>3</th>\n",
       "      <td>2017-01-04</td>\n",
       "      <td>4646</td>\n",
       "      <td>0.0</td>\n",
       "      <td>58.358974</td>\n",
       "      <td>3.9</td>\n",
       "      <td>0.0</td>\n",
       "      <td>189</td>\n",
       "      <td>2</td>\n",
       "      <td>4049.0</td>\n",
       "    </tr>\n",
       "    <tr>\n",
       "      <th>4</th>\n",
       "      <td>2017-01-05</td>\n",
       "      <td>4500</td>\n",
       "      <td>0.0</td>\n",
       "      <td>38.769231</td>\n",
       "      <td>3.8</td>\n",
       "      <td>0.0</td>\n",
       "      <td>190</td>\n",
       "      <td>3</td>\n",
       "      <td>4646.0</td>\n",
       "    </tr>\n",
       "    <tr>\n",
       "      <th>5</th>\n",
       "      <td>2017-01-06</td>\n",
       "      <td>4944</td>\n",
       "      <td>0.0</td>\n",
       "      <td>23.743590</td>\n",
       "      <td>5.4</td>\n",
       "      <td>0.0</td>\n",
       "      <td>241</td>\n",
       "      <td>4</td>\n",
       "      <td>4500.0</td>\n",
       "    </tr>\n",
       "    <tr>\n",
       "      <th>...</th>\n",
       "      <td>...</td>\n",
       "      <td>...</td>\n",
       "      <td>...</td>\n",
       "      <td>...</td>\n",
       "      <td>...</td>\n",
       "      <td>...</td>\n",
       "      <td>...</td>\n",
       "      <td>...</td>\n",
       "      <td>...</td>\n",
       "    </tr>\n",
       "    <tr>\n",
       "      <th>1350</th>\n",
       "      <td>2020-06-26</td>\n",
       "      <td>96150</td>\n",
       "      <td>2.1</td>\n",
       "      <td>22.653061</td>\n",
       "      <td>21.8</td>\n",
       "      <td>0.0</td>\n",
       "      <td>3602</td>\n",
       "      <td>4</td>\n",
       "      <td>46415.0</td>\n",
       "    </tr>\n",
       "    <tr>\n",
       "      <th>1351</th>\n",
       "      <td>2020-06-27</td>\n",
       "      <td>107001</td>\n",
       "      <td>0.0</td>\n",
       "      <td>26.489796</td>\n",
       "      <td>24.1</td>\n",
       "      <td>0.0</td>\n",
       "      <td>7049</td>\n",
       "      <td>5</td>\n",
       "      <td>96150.0</td>\n",
       "    </tr>\n",
       "    <tr>\n",
       "      <th>1352</th>\n",
       "      <td>2020-06-28</td>\n",
       "      <td>98568</td>\n",
       "      <td>0.0</td>\n",
       "      <td>29.653061</td>\n",
       "      <td>25.2</td>\n",
       "      <td>0.0</td>\n",
       "      <td>6982</td>\n",
       "      <td>6</td>\n",
       "      <td>107001.0</td>\n",
       "    </tr>\n",
       "    <tr>\n",
       "      <th>1353</th>\n",
       "      <td>2020-06-29</td>\n",
       "      <td>70053</td>\n",
       "      <td>11.9</td>\n",
       "      <td>36.469388</td>\n",
       "      <td>23.8</td>\n",
       "      <td>0.0</td>\n",
       "      <td>2609</td>\n",
       "      <td>0</td>\n",
       "      <td>98568.0</td>\n",
       "    </tr>\n",
       "    <tr>\n",
       "      <th>1354</th>\n",
       "      <td>2020-06-30</td>\n",
       "      <td>38086</td>\n",
       "      <td>64.7</td>\n",
       "      <td>9.346939</td>\n",
       "      <td>20.1</td>\n",
       "      <td>0.0</td>\n",
       "      <td>2041</td>\n",
       "      <td>1</td>\n",
       "      <td>70053.0</td>\n",
       "    </tr>\n",
       "  </tbody>\n",
       "</table>\n",
       "<p>1207 rows × 9 columns</p>\n",
       "</div>"
      ],
      "text/plain": [
       "           date   count  rain        dust  temp  holiday  user  week    shift1\n",
       "1    2017-01-02    3796   0.3  113.974359   5.0      0.0   182     0    2307.0\n",
       "2    2017-01-03    4049   0.0   80.948718   2.0      0.0   198     1    3796.0\n",
       "3    2017-01-04    4646   0.0   58.358974   3.9      0.0   189     2    4049.0\n",
       "4    2017-01-05    4500   0.0   38.769231   3.8      0.0   190     3    4646.0\n",
       "5    2017-01-06    4944   0.0   23.743590   5.4      0.0   241     4    4500.0\n",
       "...         ...     ...   ...         ...   ...      ...   ...   ...       ...\n",
       "1350 2020-06-26   96150   2.1   22.653061  21.8      0.0  3602     4   46415.0\n",
       "1351 2020-06-27  107001   0.0   26.489796  24.1      0.0  7049     5   96150.0\n",
       "1352 2020-06-28   98568   0.0   29.653061  25.2      0.0  6982     6  107001.0\n",
       "1353 2020-06-29   70053  11.9   36.469388  23.8      0.0  2609     0   98568.0\n",
       "1354 2020-06-30   38086  64.7    9.346939  20.1      0.0  2041     1   70053.0\n",
       "\n",
       "[1207 rows x 9 columns]"
      ]
     },
     "execution_count": 201,
     "metadata": {},
     "output_type": "execute_result"
    }
   ],
   "source": [
    "df_merged"
   ]
  },
  {
   "cell_type": "markdown",
   "metadata": {},
   "source": [
    "## noramlize"
   ]
  },
  {
   "cell_type": "code",
   "execution_count": 202,
   "metadata": {},
   "outputs": [],
   "source": [
    "df_norm = pd.DataFrame()"
   ]
  },
  {
   "cell_type": "code",
   "execution_count": 203,
   "metadata": {},
   "outputs": [
    {
     "name": "stderr",
     "output_type": "stream",
     "text": [
      "<ipython-input-203-e17fa926dfed>:1: FutureWarning: DataFrame.mean and DataFrame.median with numeric_only=None will include datetime64 and datetime64tz columns in a future version.\n",
      "  df_norm['mean'] = df_merged.mean()\n"
     ]
    }
   ],
   "source": [
    "df_norm['mean'] = df_merged.mean()\n",
    "df_norm['std'] = df_merged.std()"
   ]
  },
  {
   "cell_type": "code",
   "execution_count": 204,
   "metadata": {},
   "outputs": [],
   "source": [
    "df_norm = df_norm.reset_index().rename(columns={'index':'var'})"
   ]
  },
  {
   "cell_type": "code",
   "execution_count": 205,
   "metadata": {},
   "outputs": [],
   "source": [
    "df_norm.to_csv('norm.csv', index=None)"
   ]
  },
  {
   "cell_type": "code",
   "execution_count": 206,
   "metadata": {},
   "outputs": [
    {
     "data": {
      "text/html": [
       "<div>\n",
       "<style scoped>\n",
       "    .dataframe tbody tr th:only-of-type {\n",
       "        vertical-align: middle;\n",
       "    }\n",
       "\n",
       "    .dataframe tbody tr th {\n",
       "        vertical-align: top;\n",
       "    }\n",
       "\n",
       "    .dataframe thead th {\n",
       "        text-align: right;\n",
       "    }\n",
       "</style>\n",
       "<table border=\"1\" class=\"dataframe\">\n",
       "  <thead>\n",
       "    <tr style=\"text-align: right;\">\n",
       "      <th></th>\n",
       "      <th>var</th>\n",
       "      <th>mean</th>\n",
       "      <th>std</th>\n",
       "    </tr>\n",
       "  </thead>\n",
       "  <tbody>\n",
       "    <tr>\n",
       "      <th>0</th>\n",
       "      <td>count</td>\n",
       "      <td>35299.103563</td>\n",
       "      <td>28021.377837</td>\n",
       "    </tr>\n",
       "    <tr>\n",
       "      <th>1</th>\n",
       "      <td>rain</td>\n",
       "      <td>3.023695</td>\n",
       "      <td>11.828668</td>\n",
       "    </tr>\n",
       "    <tr>\n",
       "      <th>2</th>\n",
       "      <td>dust</td>\n",
       "      <td>43.122649</td>\n",
       "      <td>23.050127</td>\n",
       "    </tr>\n",
       "    <tr>\n",
       "      <th>3</th>\n",
       "      <td>temp</td>\n",
       "      <td>12.695443</td>\n",
       "      <td>10.737454</td>\n",
       "    </tr>\n",
       "    <tr>\n",
       "      <th>4</th>\n",
       "      <td>holiday</td>\n",
       "      <td>0.049710</td>\n",
       "      <td>0.217435</td>\n",
       "    </tr>\n",
       "    <tr>\n",
       "      <th>5</th>\n",
       "      <td>user</td>\n",
       "      <td>1801.076222</td>\n",
       "      <td>1698.879689</td>\n",
       "    </tr>\n",
       "    <tr>\n",
       "      <th>6</th>\n",
       "      <td>week</td>\n",
       "      <td>2.977630</td>\n",
       "      <td>2.004637</td>\n",
       "    </tr>\n",
       "    <tr>\n",
       "      <th>7</th>\n",
       "      <td>shift1</td>\n",
       "      <td>35269.460646</td>\n",
       "      <td>28037.347402</td>\n",
       "    </tr>\n",
       "  </tbody>\n",
       "</table>\n",
       "</div>"
      ],
      "text/plain": [
       "       var          mean           std\n",
       "0    count  35299.103563  28021.377837\n",
       "1     rain      3.023695     11.828668\n",
       "2     dust     43.122649     23.050127\n",
       "3     temp     12.695443     10.737454\n",
       "4  holiday      0.049710      0.217435\n",
       "5     user   1801.076222   1698.879689\n",
       "6     week      2.977630      2.004637\n",
       "7   shift1  35269.460646  28037.347402"
      ]
     },
     "execution_count": 206,
     "metadata": {},
     "output_type": "execute_result"
    }
   ],
   "source": [
    "df_norm"
   ]
  },
  {
   "cell_type": "code",
   "execution_count": 207,
   "metadata": {},
   "outputs": [
    {
     "data": {
      "text/plain": [
       "6    2.97763\n",
       "Name: mean, dtype: float64"
      ]
     },
     "execution_count": 207,
     "metadata": {},
     "output_type": "execute_result"
    }
   ],
   "source": [
    "df_norm[df_norm['var']=='week']['mean']"
   ]
  },
  {
   "cell_type": "markdown",
   "metadata": {},
   "source": [
    "## 데이터 나누기"
   ]
  },
  {
   "cell_type": "code",
   "execution_count": 208,
   "metadata": {},
   "outputs": [],
   "source": [
    "## 저장폴더\n",
    "data_path = 'resource'\n",
    "test_portion = 0.1"
   ]
  },
  {
   "cell_type": "code",
   "execution_count": 209,
   "metadata": {},
   "outputs": [],
   "source": [
    "## 저장 폴더 만들기\n",
    "os.makedirs(data_path, exist_ok = True)\n",
    "df_train, df_test = train_test_split(df_merged, test_size=test_portion, shuffle=False)"
   ]
  },
  {
   "cell_type": "code",
   "execution_count": 210,
   "metadata": {},
   "outputs": [
    {
     "data": {
      "text/plain": [
       "(1086, 121)"
      ]
     },
     "execution_count": 210,
     "metadata": {},
     "output_type": "execute_result"
    }
   ],
   "source": [
    "len(df_train), len(df_test)"
   ]
  },
  {
   "cell_type": "code",
   "execution_count": 211,
   "metadata": {},
   "outputs": [],
   "source": [
    "df_train.to_csv(os.path.join(data_path, 'train.csv'), index=None)\n",
    "df_test.to_csv(os.path.join(data_path, 'test.csv'), index=None)"
   ]
  },
  {
   "cell_type": "code",
   "execution_count": 212,
   "metadata": {},
   "outputs": [
    {
     "name": "stderr",
     "output_type": "stream",
     "text": [
      "<ipython-input-212-0ad61a3f1917>:4: SettingWithCopyWarning: \n",
      "A value is trying to be set on a copy of a slice from a DataFrame.\n",
      "Try using .loc[row_indexer,col_indexer] = value instead\n",
      "\n",
      "See the caveats in the documentation: https://pandas.pydata.org/pandas-docs/stable/user_guide/indexing.html#returning-a-view-versus-a-copy\n",
      "  df_train[var_name] = pd.to_numeric(df_train[var_name], errors='coerce')\n",
      "<ipython-input-212-0ad61a3f1917>:8: SettingWithCopyWarning: \n",
      "A value is trying to be set on a copy of a slice from a DataFrame.\n",
      "Try using .loc[row_indexer,col_indexer] = value instead\n",
      "\n",
      "See the caveats in the documentation: https://pandas.pydata.org/pandas-docs/stable/user_guide/indexing.html#returning-a-view-versus-a-copy\n",
      "  df_train[var_name] = (df_train[var_name]-df_norm[df_norm['var']==var_name]['mean'])/df_norm[df_norm['var']==var_name]['std']\n"
     ]
    }
   ],
   "source": [
    "selected_column=[]\n",
    "for var_name in df_train.columns.tolist():\n",
    "    if 'date' not in var_name and 'count' not in var_name:\n",
    "        df_train[var_name] = pd.to_numeric(df_train[var_name], errors='coerce')\n",
    "        selected_column.append(var_name)\n",
    "\n",
    "        if df_norm is not None:\n",
    "            df_train[var_name] = (df_train[var_name]-df_norm[df_norm['var']==var_name]['mean'])/df_norm[df_norm['var']==var_name]['std']"
   ]
  },
  {
   "cell_type": "code",
   "execution_count": 213,
   "metadata": {},
   "outputs": [
    {
     "data": {
      "text/plain": [
       "array([3.02369511])"
      ]
     },
     "execution_count": 213,
     "metadata": {},
     "output_type": "execute_result"
    }
   ],
   "source": [
    "df_norm[df_norm['var']=='rain']['mean'].values"
   ]
  },
  {
   "cell_type": "markdown",
   "metadata": {},
   "source": [
    "## Scaler로 만들기"
   ]
  },
  {
   "cell_type": "code",
   "execution_count": 214,
   "metadata": {},
   "outputs": [],
   "source": [
    "from sklearn.preprocessing import MinMaxScaler"
   ]
  },
  {
   "cell_type": "code",
   "execution_count": 215,
   "metadata": {},
   "outputs": [
    {
     "data": {
      "text/html": [
       "<div>\n",
       "<style scoped>\n",
       "    .dataframe tbody tr th:only-of-type {\n",
       "        vertical-align: middle;\n",
       "    }\n",
       "\n",
       "    .dataframe tbody tr th {\n",
       "        vertical-align: top;\n",
       "    }\n",
       "\n",
       "    .dataframe thead th {\n",
       "        text-align: right;\n",
       "    }\n",
       "</style>\n",
       "<table border=\"1\" class=\"dataframe\">\n",
       "  <thead>\n",
       "    <tr style=\"text-align: right;\">\n",
       "      <th></th>\n",
       "      <th>date</th>\n",
       "      <th>count</th>\n",
       "      <th>rain</th>\n",
       "      <th>dust</th>\n",
       "      <th>temp</th>\n",
       "      <th>holiday</th>\n",
       "      <th>user</th>\n",
       "      <th>week</th>\n",
       "      <th>shift1</th>\n",
       "    </tr>\n",
       "  </thead>\n",
       "  <tbody>\n",
       "    <tr>\n",
       "      <th>1</th>\n",
       "      <td>2017-01-02</td>\n",
       "      <td>3796</td>\n",
       "      <td>0.3</td>\n",
       "      <td>113.974359</td>\n",
       "      <td>5.0</td>\n",
       "      <td>0.0</td>\n",
       "      <td>182</td>\n",
       "      <td>0</td>\n",
       "      <td>2307.0</td>\n",
       "    </tr>\n",
       "    <tr>\n",
       "      <th>2</th>\n",
       "      <td>2017-01-03</td>\n",
       "      <td>4049</td>\n",
       "      <td>0.0</td>\n",
       "      <td>80.948718</td>\n",
       "      <td>2.0</td>\n",
       "      <td>0.0</td>\n",
       "      <td>198</td>\n",
       "      <td>1</td>\n",
       "      <td>3796.0</td>\n",
       "    </tr>\n",
       "    <tr>\n",
       "      <th>3</th>\n",
       "      <td>2017-01-04</td>\n",
       "      <td>4646</td>\n",
       "      <td>0.0</td>\n",
       "      <td>58.358974</td>\n",
       "      <td>3.9</td>\n",
       "      <td>0.0</td>\n",
       "      <td>189</td>\n",
       "      <td>2</td>\n",
       "      <td>4049.0</td>\n",
       "    </tr>\n",
       "    <tr>\n",
       "      <th>4</th>\n",
       "      <td>2017-01-05</td>\n",
       "      <td>4500</td>\n",
       "      <td>0.0</td>\n",
       "      <td>38.769231</td>\n",
       "      <td>3.8</td>\n",
       "      <td>0.0</td>\n",
       "      <td>190</td>\n",
       "      <td>3</td>\n",
       "      <td>4646.0</td>\n",
       "    </tr>\n",
       "    <tr>\n",
       "      <th>5</th>\n",
       "      <td>2017-01-06</td>\n",
       "      <td>4944</td>\n",
       "      <td>0.0</td>\n",
       "      <td>23.743590</td>\n",
       "      <td>5.4</td>\n",
       "      <td>0.0</td>\n",
       "      <td>241</td>\n",
       "      <td>4</td>\n",
       "      <td>4500.0</td>\n",
       "    </tr>\n",
       "    <tr>\n",
       "      <th>...</th>\n",
       "      <td>...</td>\n",
       "      <td>...</td>\n",
       "      <td>...</td>\n",
       "      <td>...</td>\n",
       "      <td>...</td>\n",
       "      <td>...</td>\n",
       "      <td>...</td>\n",
       "      <td>...</td>\n",
       "      <td>...</td>\n",
       "    </tr>\n",
       "    <tr>\n",
       "      <th>1350</th>\n",
       "      <td>2020-06-26</td>\n",
       "      <td>96150</td>\n",
       "      <td>2.1</td>\n",
       "      <td>22.653061</td>\n",
       "      <td>21.8</td>\n",
       "      <td>0.0</td>\n",
       "      <td>3602</td>\n",
       "      <td>4</td>\n",
       "      <td>46415.0</td>\n",
       "    </tr>\n",
       "    <tr>\n",
       "      <th>1351</th>\n",
       "      <td>2020-06-27</td>\n",
       "      <td>107001</td>\n",
       "      <td>0.0</td>\n",
       "      <td>26.489796</td>\n",
       "      <td>24.1</td>\n",
       "      <td>0.0</td>\n",
       "      <td>7049</td>\n",
       "      <td>5</td>\n",
       "      <td>96150.0</td>\n",
       "    </tr>\n",
       "    <tr>\n",
       "      <th>1352</th>\n",
       "      <td>2020-06-28</td>\n",
       "      <td>98568</td>\n",
       "      <td>0.0</td>\n",
       "      <td>29.653061</td>\n",
       "      <td>25.2</td>\n",
       "      <td>0.0</td>\n",
       "      <td>6982</td>\n",
       "      <td>6</td>\n",
       "      <td>107001.0</td>\n",
       "    </tr>\n",
       "    <tr>\n",
       "      <th>1353</th>\n",
       "      <td>2020-06-29</td>\n",
       "      <td>70053</td>\n",
       "      <td>11.9</td>\n",
       "      <td>36.469388</td>\n",
       "      <td>23.8</td>\n",
       "      <td>0.0</td>\n",
       "      <td>2609</td>\n",
       "      <td>0</td>\n",
       "      <td>98568.0</td>\n",
       "    </tr>\n",
       "    <tr>\n",
       "      <th>1354</th>\n",
       "      <td>2020-06-30</td>\n",
       "      <td>38086</td>\n",
       "      <td>64.7</td>\n",
       "      <td>9.346939</td>\n",
       "      <td>20.1</td>\n",
       "      <td>0.0</td>\n",
       "      <td>2041</td>\n",
       "      <td>1</td>\n",
       "      <td>70053.0</td>\n",
       "    </tr>\n",
       "  </tbody>\n",
       "</table>\n",
       "<p>1207 rows × 9 columns</p>\n",
       "</div>"
      ],
      "text/plain": [
       "           date   count  rain        dust  temp  holiday  user  week    shift1\n",
       "1    2017-01-02    3796   0.3  113.974359   5.0      0.0   182     0    2307.0\n",
       "2    2017-01-03    4049   0.0   80.948718   2.0      0.0   198     1    3796.0\n",
       "3    2017-01-04    4646   0.0   58.358974   3.9      0.0   189     2    4049.0\n",
       "4    2017-01-05    4500   0.0   38.769231   3.8      0.0   190     3    4646.0\n",
       "5    2017-01-06    4944   0.0   23.743590   5.4      0.0   241     4    4500.0\n",
       "...         ...     ...   ...         ...   ...      ...   ...   ...       ...\n",
       "1350 2020-06-26   96150   2.1   22.653061  21.8      0.0  3602     4   46415.0\n",
       "1351 2020-06-27  107001   0.0   26.489796  24.1      0.0  7049     5   96150.0\n",
       "1352 2020-06-28   98568   0.0   29.653061  25.2      0.0  6982     6  107001.0\n",
       "1353 2020-06-29   70053  11.9   36.469388  23.8      0.0  2609     0   98568.0\n",
       "1354 2020-06-30   38086  64.7    9.346939  20.1      0.0  2041     1   70053.0\n",
       "\n",
       "[1207 rows x 9 columns]"
      ]
     },
     "execution_count": 215,
     "metadata": {},
     "output_type": "execute_result"
    }
   ],
   "source": [
    "df_merged"
   ]
  },
  {
   "cell_type": "code",
   "execution_count": null,
   "metadata": {},
   "outputs": [],
   "source": []
  },
  {
   "cell_type": "code",
   "execution_count": null,
   "metadata": {},
   "outputs": [],
   "source": []
  },
  {
   "cell_type": "code",
   "execution_count": null,
   "metadata": {},
   "outputs": [],
   "source": []
  },
  {
   "cell_type": "code",
   "execution_count": null,
   "metadata": {},
   "outputs": [],
   "source": []
  },
  {
   "cell_type": "code",
   "execution_count": null,
   "metadata": {},
   "outputs": [],
   "source": []
  },
  {
   "cell_type": "code",
   "execution_count": null,
   "metadata": {},
   "outputs": [],
   "source": []
  },
  {
   "cell_type": "code",
   "execution_count": null,
   "metadata": {},
   "outputs": [],
   "source": []
  },
  {
   "cell_type": "code",
   "execution_count": null,
   "metadata": {},
   "outputs": [],
   "source": []
  },
  {
   "cell_type": "code",
   "execution_count": null,
   "metadata": {},
   "outputs": [],
   "source": []
  }
 ],
 "metadata": {
  "kernelspec": {
   "display_name": "Python 3",
   "language": "python",
   "name": "python3"
  },
  "language_info": {
   "codemirror_mode": {
    "name": "ipython",
    "version": 3
   },
   "file_extension": ".py",
   "mimetype": "text/x-python",
   "name": "python",
   "nbconvert_exporter": "python",
   "pygments_lexer": "ipython3",
   "version": "3.8.3"
  }
 },
 "nbformat": 4,
 "nbformat_minor": 4
}
