{
 "cells": [
  {
   "cell_type": "code",
   "execution_count": 1,
   "metadata": {},
   "outputs": [],
   "source": [
    "import pandas as pd\n",
    "import os\n",
    "import datetime"
   ]
  },
  {
   "cell_type": "code",
   "execution_count": 2,
   "metadata": {},
   "outputs": [],
   "source": [
    "def open_file(temp_path):\n",
    "    try:\n",
    "        if '.csv' in temp_path:\n",
    "            return pd.read_csv(temp_path, encoding='utf-8')\n",
    "        if '.xlsx' in temp_path:\n",
    "            return pd.read_excel(temp_path)\n",
    "    except ValueError:\n",
    "        raise ValueError(temp_path)\n",
    "\n",
    "## 날짜 유혀성 확인\n",
    "def validate(date_text):\n",
    "    try:\n",
    "        datetime.datetime.strptime(date_text, '%Y-%m-%d')\n",
    "        return True\n",
    "    except ValueError:\n",
    "        return False"
   ]
  },
  {
   "cell_type": "code",
   "execution_count": 3,
   "metadata": {},
   "outputs": [],
   "source": [
    "## 온도 데이터 위치\n",
    "root_path = 'additional/dust'\n",
    "save_path = 'dust_total.csv'\n",
    "assert os.path.isdir(root_path), \"온도 데이터가 있는 폴더 설정 하세요.\""
   ]
  },
  {
   "cell_type": "code",
   "execution_count": 4,
   "metadata": {},
   "outputs": [
    {
     "name": "stdout",
     "output_type": "stream",
     "text": [
      "['일별평균대기오염도_2017.xlsx', '일별평균대기오염도_2015.xlsx', '일별평균대기오염도_2019.xlsx', '일별평균대기오염도_2016.xlsx', '일별평균대기오염도_2018.xlsx']\n"
     ]
    }
   ],
   "source": [
    "## 데이터 확인\n",
    "filelist = [item for item in os.listdir(root_path) if '.csv' in item or '.xlsx' in item]\n",
    "print(filelist)"
   ]
  },
  {
   "cell_type": "code",
   "execution_count": 5,
   "metadata": {},
   "outputs": [],
   "source": [
    "merge_dict = {\n",
    "    'date':[],\n",
    "    'val':[],\n",
    "}\n",
    "\n",
    "for filename in filelist:\n",
    "    temp_year = filename.split('.')[0].split('_')[1]\n",
    "    \n",
    "    ## 데이터 하나씩 불러오기\n",
    "    df = open_file(os.path.join(root_path, filename))\n",
    "    \n",
    "    ##데이터 추출\n",
    "    temp_df = df[['측정일시', '미세먼지(㎍/㎥)']].groupby('측정일시').mean()\n",
    "    temp_df_date = temp_df.index\n",
    "    temp_df_val = temp_df.values\n",
    "    \n",
    "    for temp_date, temp_data in zip(temp_df_date, temp_df_val):\n",
    "        temp_data = temp_data[0]\n",
    "        temp_date = str(temp_date)\n",
    "        temp_date = \"{}-{}-{}\".format(temp_date[:4], temp_date[4:6], temp_date[6:])\n",
    "\n",
    "        ## 날짜 형식 확인\n",
    "        if validate(temp_date):\n",
    "            merge_dict['date'].append(temp_date)\n",
    "            merge_dict['val'].append(temp_data)\n",
    "    "
   ]
  },
  {
   "cell_type": "code",
   "execution_count": 6,
   "metadata": {},
   "outputs": [],
   "source": [
    "merge_df = pd.DataFrame(merge_dict)"
   ]
  },
  {
   "cell_type": "code",
   "execution_count": 7,
   "metadata": {},
   "outputs": [],
   "source": [
    "merge_df = merge_df.sort_values('date')"
   ]
  },
  {
   "cell_type": "code",
   "execution_count": 8,
   "metadata": {},
   "outputs": [],
   "source": [
    "merge_df = merge_df.reset_index(drop=True)"
   ]
  },
  {
   "cell_type": "code",
   "execution_count": 9,
   "metadata": {},
   "outputs": [],
   "source": [
    "merge_df.columns = ['date', 'dust']"
   ]
  },
  {
   "cell_type": "code",
   "execution_count": 10,
   "metadata": {},
   "outputs": [],
   "source": [
    "## 저장하기\n",
    "merge_df.to_csv(save_path, index=None)"
   ]
  }
 ],
 "metadata": {
  "kernelspec": {
   "display_name": "Python 3",
   "language": "python",
   "name": "python3"
  },
  "language_info": {
   "codemirror_mode": {
    "name": "ipython",
    "version": 3
   },
   "file_extension": ".py",
   "mimetype": "text/x-python",
   "name": "python",
   "nbconvert_exporter": "python",
   "pygments_lexer": "ipython3",
   "version": "3.8.3"
  }
 },
 "nbformat": 4,
 "nbformat_minor": 4
}
