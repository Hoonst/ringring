{
 "cells": [
  {
   "cell_type": "markdown",
   "metadata": {},
   "source": [
    "## 신청 방법 안내 BLOG\n",
    "https://m.blog.naver.com/PostView.nhn?blogId=wideeyed&logNo=221341051478&proxyReferer=https:%2F%2Fwww.google.com%2F\n",
    "\n",
    "## 신청 사이트\n",
    "https://www.data.go.kr/dataset/15012690/openapi.do\n",
    "\n",
    "## 인증키\n",
    "YBicSRtx%2Fllk3emEF2RPAk6gJJhbRaeaNr2MoASOHSBXZuZkrR%2Bi9vAqV6aMnK1m%2FBqxH6%2BUKD0Ac%2BN%2F9oP47A%3D%3D"
   ]
  },
  {
   "cell_type": "code",
   "execution_count": 1,
   "metadata": {},
   "outputs": [],
   "source": [
    "import requests\n",
    "from bs4 import BeautifulSoup\n",
    "import pandas as pd\n",
    "from tqdm.notebook import tqdm\n",
    "import datetime\n",
    "import os"
   ]
  },
  {
   "cell_type": "code",
   "execution_count": 2,
   "metadata": {},
   "outputs": [],
   "source": [
    "def get_request_query(url, operation, params, serviceKey):\n",
    "    import urllib.parse as urlparse\n",
    "    params = urlparse.urlencode(params)\n",
    "    request_query = url + '/' + operation + '?' + params + '&' + 'serviceKey' + '=' + serviceKey\n",
    "    return request_query\n",
    "\n",
    "## 날짜 유혀성 확인\n",
    "def validate(date_text):\n",
    "    try:\n",
    "        datetime.datetime.strptime(date_text, '%Y-%m-%d')\n",
    "        return True\n",
    "    except ValueError:\n",
    "        return False"
   ]
  },
  {
   "cell_type": "code",
   "execution_count": 3,
   "metadata": {},
   "outputs": [],
   "source": [
    "## 초기설정\n",
    "start_year = 2015\n",
    "end_year = 2020\n",
    "start_month = 1\n",
    "end_month = 12"
   ]
  },
  {
   "cell_type": "code",
   "execution_count": 4,
   "metadata": {},
   "outputs": [],
   "source": [
    "# 요청 URL과 오퍼레이션\n",
    "URL = 'http://apis.data.go.kr/B090041/openapi/service/SpcdeInfoService'\n",
    "OPERATION = 'getHoliDeInfo' # 국경일 + 공휴일 정보 조회 오퍼레이션\n",
    "\n",
    "# 파라미터\n",
    "SERVICEKEY = 'YBicSRtx%2Fllk3emEF2RPAk6gJJhbRaeaNr2MoASOHSBXZuZkrR%2Bi9vAqV6aMnK1m%2FBqxH6%2BUKD0Ac%2BN%2F9oP47A%3D%3D'\n",
    "solYear  = '2018'  # 연도\n",
    "solMonth = '09'   # 월\n",
    "PARAMS = {'solYear':solYear, 'solMonth':solMonth}"
   ]
  },
  {
   "cell_type": "code",
   "execution_count": 5,
   "metadata": {},
   "outputs": [
    {
     "data": {
      "application/vnd.jupyter.widget-view+json": {
       "model_id": "520d0ab1316c435d99044d053c2b9d14",
       "version_major": 2,
       "version_minor": 0
      },
      "text/plain": [
       "HBox(children=(FloatProgress(value=0.0, description='year', max=6.0, style=ProgressStyle(description_width='in…"
      ]
     },
     "metadata": {},
     "output_type": "display_data"
    },
    {
     "data": {
      "application/vnd.jupyter.widget-view+json": {
       "model_id": "2269c9c6da2443f4af9f96c3bb052409",
       "version_major": 2,
       "version_minor": 0
      },
      "text/plain": [
       "HBox(children=(FloatProgress(value=0.0, description='month', max=12.0, style=ProgressStyle(description_width='…"
      ]
     },
     "metadata": {},
     "output_type": "display_data"
    },
    {
     "name": "stdout",
     "output_type": "stream",
     "text": [
      "\n"
     ]
    },
    {
     "data": {
      "application/vnd.jupyter.widget-view+json": {
       "model_id": "90773db395b24c89be9bda4e36d93758",
       "version_major": 2,
       "version_minor": 0
      },
      "text/plain": [
       "HBox(children=(FloatProgress(value=0.0, description='month', max=12.0, style=ProgressStyle(description_width='…"
      ]
     },
     "metadata": {},
     "output_type": "display_data"
    },
    {
     "name": "stdout",
     "output_type": "stream",
     "text": [
      "\n"
     ]
    },
    {
     "data": {
      "application/vnd.jupyter.widget-view+json": {
       "model_id": "2012ca5ae1204aa1b4947d0afc3291aa",
       "version_major": 2,
       "version_minor": 0
      },
      "text/plain": [
       "HBox(children=(FloatProgress(value=0.0, description='month', max=12.0, style=ProgressStyle(description_width='…"
      ]
     },
     "metadata": {},
     "output_type": "display_data"
    },
    {
     "name": "stdout",
     "output_type": "stream",
     "text": [
      "\n"
     ]
    },
    {
     "data": {
      "application/vnd.jupyter.widget-view+json": {
       "model_id": "73b0d53f13ba40c687da1ecef8bef78b",
       "version_major": 2,
       "version_minor": 0
      },
      "text/plain": [
       "HBox(children=(FloatProgress(value=0.0, description='month', max=12.0, style=ProgressStyle(description_width='…"
      ]
     },
     "metadata": {},
     "output_type": "display_data"
    },
    {
     "name": "stdout",
     "output_type": "stream",
     "text": [
      "\n"
     ]
    },
    {
     "data": {
      "application/vnd.jupyter.widget-view+json": {
       "model_id": "24d4d03927fe4262bd948bebcd58f53d",
       "version_major": 2,
       "version_minor": 0
      },
      "text/plain": [
       "HBox(children=(FloatProgress(value=0.0, description='month', max=12.0, style=ProgressStyle(description_width='…"
      ]
     },
     "metadata": {},
     "output_type": "display_data"
    },
    {
     "name": "stdout",
     "output_type": "stream",
     "text": [
      "\n"
     ]
    },
    {
     "data": {
      "application/vnd.jupyter.widget-view+json": {
       "model_id": "8972aea21ef14e5f8cc95b50dd20b665",
       "version_major": 2,
       "version_minor": 0
      },
      "text/plain": [
       "HBox(children=(FloatProgress(value=0.0, description='month', max=12.0, style=ProgressStyle(description_width='…"
      ]
     },
     "metadata": {},
     "output_type": "display_data"
    },
    {
     "name": "stdout",
     "output_type": "stream",
     "text": [
      "\n",
      "\n"
     ]
    }
   ],
   "source": [
    "merge_dict = {\n",
    "    'date':[],\n",
    "    'holiday':[],\n",
    "}\n",
    "\n",
    "for temp_year in tqdm(range(start_year, end_year+1), desc='year'):\n",
    "    temp_year = str(temp_year)\n",
    "    for temp_month in tqdm(range(start_month, end_month+1), desc='month'):\n",
    "        temp_month = str(temp_month).zfill(2)\n",
    "        \n",
    "        PARAMS = {'solYear':temp_year, 'solMonth':temp_month}\n",
    "        while(True):\n",
    "            request_query = get_request_query(URL, OPERATION, PARAMS, SERVICEKEY)\n",
    "            response = requests.get(url=request_query)\n",
    "            if True == response.ok:\n",
    "                break\n",
    "        \n",
    "        html = response.text\n",
    "        soup = BeautifulSoup(html, 'html.parser')\n",
    "        for item in soup.find_all('item'):\n",
    "            temp_date = item.find('locdate').text\n",
    "            temp_date = \"{}-{}-{}\".format(temp_date[:4], temp_date[4:6], temp_date[6:])\n",
    "            \n",
    "            ## 날짜 형식 확인\n",
    "            if validate(temp_date):\n",
    "                merge_dict['date'].append(temp_date)\n",
    "                merge_dict['holiday'].append(1)"
   ]
  },
  {
   "cell_type": "code",
   "execution_count": 6,
   "metadata": {},
   "outputs": [],
   "source": [
    "merge_df = pd.DataFrame(merge_dict)"
   ]
  },
  {
   "cell_type": "code",
   "execution_count": 7,
   "metadata": {},
   "outputs": [],
   "source": [
    "## 타입변환\n",
    "merge_df['date'] = pd.to_datetime(merge_df['date'], format='%Y-%m-%d')\n",
    "merge_df = merge_df.drop_duplicates()"
   ]
  },
  {
   "cell_type": "code",
   "execution_count": 8,
   "metadata": {},
   "outputs": [],
   "source": [
    "merge_df = merge_df.set_index('date')"
   ]
  },
  {
   "cell_type": "code",
   "execution_count": 9,
   "metadata": {},
   "outputs": [],
   "source": [
    "## 날짜 계산\n",
    "all_days = pd.date_range(merge_df.index.min(), merge_df.index.max(), freq='D')\n",
    "merge_df = merge_df.reindex(all_days)"
   ]
  },
  {
   "cell_type": "code",
   "execution_count": 10,
   "metadata": {},
   "outputs": [],
   "source": [
    "merge_df = merge_df.fillna(0)"
   ]
  },
  {
   "cell_type": "code",
   "execution_count": 11,
   "metadata": {},
   "outputs": [],
   "source": [
    "## index를 원래 자리로\n",
    "merge_df = merge_df.reset_index().rename(columns={\"index\": \"date\"})"
   ]
  },
  {
   "cell_type": "code",
   "execution_count": 13,
   "metadata": {},
   "outputs": [],
   "source": [
    "merge_df.to_csv('holiday_total.csv', index=None)"
   ]
  }
 ],
 "metadata": {
  "kernelspec": {
   "display_name": "Python 3",
   "language": "python",
   "name": "python3"
  },
  "language_info": {
   "codemirror_mode": {
    "name": "ipython",
    "version": 3
   },
   "file_extension": ".py",
   "mimetype": "text/x-python",
   "name": "python",
   "nbconvert_exporter": "python",
   "pygments_lexer": "ipython3",
   "version": "3.8.3"
  }
 },
 "nbformat": 4,
 "nbformat_minor": 4
}
