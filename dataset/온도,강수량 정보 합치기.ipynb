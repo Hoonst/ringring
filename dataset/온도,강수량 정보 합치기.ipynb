{
 "cells": [
  {
   "cell_type": "code",
   "execution_count": 5,
   "metadata": {},
   "outputs": [],
   "source": [
    "import pandas as pd\n",
    "import os\n",
    "import datetime"
   ]
  },
  {
   "cell_type": "code",
   "execution_count": 6,
   "metadata": {},
   "outputs": [],
   "source": [
    "def open_file(temp_path):\n",
    "    if '.csv' in temp_path:\n",
    "        return pd.read_csv(temp_path)\n",
    "    if '.xlsx' in temp_path:\n",
    "        return pd.read_excel(temp_path)\n",
    "\n",
    "## 날짜 유혀성 확인\n",
    "def validate(date_text):\n",
    "    try:\n",
    "        datetime.datetime.strptime(date_text, '%Y-%m-%d')\n",
    "        return True\n",
    "    except ValueError:\n",
    "        return False"
   ]
  },
  {
   "cell_type": "code",
   "execution_count": 14,
   "metadata": {},
   "outputs": [],
   "source": [
    "## 온도 데이터 위치\n",
    "column_name = 'temp'\n",
    "root_path = 'additional/temp'\n",
    "save_path = 'temp_total.csv'\n",
    "assert os.path.isdir(root_path), \"온도 데이터가 있는 폴더 설정 하세요.\""
   ]
  },
  {
   "cell_type": "code",
   "execution_count": 15,
   "metadata": {},
   "outputs": [
    {
     "name": "stdout",
     "output_type": "stream",
     "text": [
      "['temp_2018.xlsx', 'temp_2015.xlsx', 'temp_2017.xlsx', 'temp_2019.xlsx', 'temp_2016.xlsx', 'temp_2020.xlsx']\n"
     ]
    }
   ],
   "source": [
    "## 데이터 확인\n",
    "filelist = [item for item in os.listdir(root_path) if '.csv' in item or '.xlsx' in item]\n",
    "print(filelist)"
   ]
  },
  {
   "cell_type": "code",
   "execution_count": 16,
   "metadata": {},
   "outputs": [],
   "source": [
    "merge_dict = {\n",
    "    'date':[],\n",
    "    'val':[],\n",
    "}\n",
    "\n",
    "for filename in filelist:\n",
    "    temp_year = filename.split('.')[0].split('_')[1]\n",
    "    \n",
    "    ## 데이터 하나씩 불러오기\n",
    "    df = open_file(os.path.join(root_path, filename))\n",
    "    \n",
    "    ## 컬럼 바꾸기\n",
    "    df.columns = ['일', '01', '02', '03', '04', '05', '06', '07', '08', '09','10', '11', '12']\n",
    "    df['일']=[str(idx+1).zfill(2) for idx in range(31)]\n",
    "    \n",
    "    month_columns = ['01', '02', '03', '04', '05', '06', '07', '08', '09','10', '11', '12']\n",
    "    for temp_month in month_columns:\n",
    "        temp_df = df[['일', temp_month]]\n",
    "        \n",
    "        for item in temp_df.values.tolist():\n",
    "            temp_day = item[0]\n",
    "            temp_data = item[1]\n",
    "            \n",
    "            temp_date = \"{}-{}-{}\".format(temp_year, temp_month, temp_day)\n",
    "            \n",
    "            ## 날짜 형식 확인\n",
    "            if validate(temp_date):\n",
    "                merge_dict['date'].append(temp_date)\n",
    "                merge_dict['val'].append(temp_data)\n",
    "                "
   ]
  },
  {
   "cell_type": "code",
   "execution_count": 17,
   "metadata": {},
   "outputs": [],
   "source": [
    "merge_df = pd.DataFrame(merge_dict)"
   ]
  },
  {
   "cell_type": "code",
   "execution_count": 18,
   "metadata": {},
   "outputs": [],
   "source": [
    "merge_df = merge_df.sort_values('date')\n",
    "merge_df = merge_df.reset_index(drop=True)"
   ]
  },
  {
   "cell_type": "code",
   "execution_count": 19,
   "metadata": {},
   "outputs": [],
   "source": [
    "merge_df.columns = ['date']+[column_name]"
   ]
  },
  {
   "cell_type": "code",
   "execution_count": 20,
   "metadata": {},
   "outputs": [],
   "source": [
    "## 저장하기\n",
    "merge_df.to_csv(save_path, index=None)"
   ]
  },
  {
   "cell_type": "code",
   "execution_count": null,
   "metadata": {},
   "outputs": [],
   "source": []
  }
 ],
 "metadata": {
  "kernelspec": {
   "display_name": "Python 3",
   "language": "python",
   "name": "python3"
  },
  "language_info": {
   "codemirror_mode": {
    "name": "ipython",
    "version": 3
   },
   "file_extension": ".py",
   "mimetype": "text/x-python",
   "name": "python",
   "nbconvert_exporter": "python",
   "pygments_lexer": "ipython3",
   "version": "3.8.3"
  }
 },
 "nbformat": 4,
 "nbformat_minor": 4
}
